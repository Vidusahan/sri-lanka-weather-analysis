{
 "cells": [
  {
   "cell_type": "markdown",
   "id": "5bbfd652",
   "metadata": {},
   "source": [
    "## Predictive modeling"
   ]
  }
 ],
 "metadata": {
  "language_info": {
   "name": "python"
  }
 },
 "nbformat": 4,
 "nbformat_minor": 5
}

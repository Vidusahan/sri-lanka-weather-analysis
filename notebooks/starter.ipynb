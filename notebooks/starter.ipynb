{
 "cells": [
  {
   "cell_type": "markdown",
   "id": "5a7ddd4e",
   "metadata": {},
   "source": [
    "# 📊 Sri Lanka Weather Analysis\n",
    "Welcome to your EDA notebook!"
   ]
  },
  {
   "cell_type": "code",
   "execution_count": null,
   "id": "3755297a",
   "metadata": {},
   "outputs": [],
   "source": [
    "# Import libraries\n",
    "import pandas as pd\n",
    "import numpy as np\n",
    "import matplotlib.pyplot as plt\n",
    "import seaborn as sns"
   ]
  },
  {
   "cell_type": "code",
   "execution_count": null,
   "id": "74f24530",
   "metadata": {},
   "outputs": [],
   "source": [
    "# Load your dataset here\n",
    "df = pd.read_csv('../data/your_dataset.csv')\n",
    "df.head()"
   ]
  }
 ],
 "metadata": {},
 "nbformat": 4,
 "nbformat_minor": 5
}
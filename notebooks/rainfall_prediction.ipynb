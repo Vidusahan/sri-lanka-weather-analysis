{
 "cells": [
  {
   "cell_type": "markdown",
   "id": "0092010c",
   "metadata": {},
   "source": [
    "## Predictive modeling"
   ]
  }
 ],
 "metadata": {
  "language_info": {
   "name": "python"
  }
 },
 "nbformat": 4,
 "nbformat_minor": 5
}

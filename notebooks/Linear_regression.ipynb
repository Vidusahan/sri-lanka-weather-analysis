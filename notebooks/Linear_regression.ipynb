{
 "cells": [
  {
   "cell_type": "markdown",
   "id": "5bbfd652",
   "metadata": {},
   "source": [
    "## Predictive modeling - Linear Regression model (Daily mean tempreture)"
   ]
  },
  {
   "cell_type": "code",
   "execution_count": 1,
   "id": "e6e6ddd4",
   "metadata": {},
   "outputs": [],
   "source": [
    "import pandas as pd\n",
    "import numpy as np"
   ]
  },
  {
   "cell_type": "code",
   "execution_count": 2,
   "id": "05f85a87",
   "metadata": {},
   "outputs": [],
   "source": [
    "kandy_weather = pd.read_csv('../data/processed/kandy_weather_cleaned.csv', index_col=0, parse_dates=['time'])"
   ]
  },
  {
   "cell_type": "code",
   "execution_count": 3,
   "id": "4f08a37e",
   "metadata": {},
   "outputs": [],
   "source": [
    "#drop highly correlated columns \n",
    "kandy_weather = kandy_weather.drop(columns=['max_temperature', 'min_temperature', 'apparent_temperature_mean'])"
   ]
  },
  {
   "cell_type": "code",
   "execution_count": null,
   "id": "11ba1411",
   "metadata": {},
   "outputs": [],
   "source": [
    "# Define features and target variables\n",
    "variables = ['weather_code', 'shortwave_radiation', 'rainfall', 'max_wind_speed', 'max_wind_gust', 'dominant_Wind_Direction', 'evapotranspiration', 'mean_temperature', 'rain_tomorrow']\n",
    "target = 'mean_temperature'\n",
    "\n",
    "x = kandy_weather.drop(columns=[target])\n",
    "y = kandy_weather[target]\n",
    "\n",
    "# Split the data into training and testing sets\n",
    "from sklearn.model_selection import train_test_split\n",
    "\n",
    "x_train, x_test, y_train, y_test = train_test_split(x, y, test_size=0.2, random_state=42)\n",
    "\n",
    "\n",
    "\n",
    "\n"
   ]
  }
 ],
 "metadata": {
  "kernelspec": {
   "display_name": "base",
   "language": "python",
   "name": "python3"
  },
  "language_info": {
   "codemirror_mode": {
    "name": "ipython",
    "version": 3
   },
   "file_extension": ".py",
   "mimetype": "text/x-python",
   "name": "python",
   "nbconvert_exporter": "python",
   "pygments_lexer": "ipython3",
   "version": "3.12.10"
  }
 },
 "nbformat": 4,
 "nbformat_minor": 5
}
